{
  "nbformat": 4,
  "nbformat_minor": 0,
  "metadata": {
    "colab": {
      "provenance": []
    },
    "kernelspec": {
      "name": "python3",
      "display_name": "Python 3"
    },
    "language_info": {
      "name": "python"
    }
  },
  "cells": [
    {
      "cell_type": "markdown",
      "source": [
        "Here is the code and step by Step process, using Gemini I had created a perosnal python tutor, who will teach me to understand concepts and write python codes not limited to just coding.\n"
      ],
      "metadata": {
        "id": "S1BCw27gwVbz"
      }
    },
    {
      "cell_type": "code",
      "source": [
        "!pip install -U -q google-generativeai"
      ],
      "metadata": {
        "id": "u5UZDKU4tqLe"
      },
      "execution_count": 2,
      "outputs": []
    },
    {
      "cell_type": "code",
      "source": [
        "import pathlib\n",
        "import textwrap\n",
        "from IPython.display import display\n",
        "from IPython.display import Markdown\n",
        "\n",
        "\n",
        "def to_markdown(text):\n",
        "  text = text.replace('•', '  *')\n",
        "  return Markdown(textwrap.indent(text, '> ', predicate=lambda _: True))"
      ],
      "metadata": {
        "id": "DStOmnHBv3ia"
      },
      "execution_count": 10,
      "outputs": []
    },
    {
      "cell_type": "code",
      "execution_count": 3,
      "metadata": {
        "id": "tupYAVmrmZKC"
      },
      "outputs": [],
      "source": [
        "import google.generativeai as genai\n",
        "from google.colab import userdata\n",
        "\n",
        "GOOGLE_API_KEY=userdata.get('GOOGLE_API_KEY')\n",
        "genai.configure(api_key=GOOGLE_API_KEY)"
      ]
    },
    {
      "cell_type": "code",
      "source": [
        "for m in genai.list_models():\n",
        "  if 'generateContent' in m.supported_generation_methods:\n",
        "    print(m.name)"
      ],
      "metadata": {
        "colab": {
          "base_uri": "https://localhost:8080/",
          "height": 136
        },
        "id": "tg7ah51rsx6E",
        "outputId": "d1bdc4d4-580a-48ec-f524-27d5b8798e76"
      },
      "execution_count": 4,
      "outputs": [
        {
          "output_type": "stream",
          "name": "stdout",
          "text": [
            "models/gemini-1.0-pro\n",
            "models/gemini-1.0-pro-001\n",
            "models/gemini-1.0-pro-latest\n",
            "models/gemini-1.0-pro-vision-latest\n",
            "models/gemini-1.5-pro-latest\n",
            "models/gemini-pro\n",
            "models/gemini-pro-vision\n"
          ]
        }
      ]
    },
    {
      "cell_type": "code",
      "source": [
        "model_gprosys = genai.GenerativeModel(\n",
        "    \"gemini-1.5-pro-latest\",\n",
        "    system_instruction=\"You are my programming Tutor with specialization in Python programming. You will help me to write python codes and understand the concept \",\n",
        ")\n"
      ],
      "metadata": {
        "id": "hrpCbOgWs0r6"
      },
      "execution_count": 5,
      "outputs": []
    },
    {
      "cell_type": "code",
      "source": [
        "response=model_gprosys.generate_content(\"good morning sir how are you\")"
      ],
      "metadata": {
        "id": "EMqK223Qux8p"
      },
      "execution_count": 6,
      "outputs": []
    },
    {
      "cell_type": "code",
      "source": [
        "print(response.text)"
      ],
      "metadata": {
        "colab": {
          "base_uri": "https://localhost:8080/"
        },
        "id": "sRhJMX3VvDnS",
        "outputId": "46f9e96c-9971-41c4-ac25-4abbf9c6ac85"
      },
      "execution_count": 7,
      "outputs": [
        {
          "output_type": "stream",
          "name": "stdout",
          "text": [
            "Good morning! I'm doing well, thank you for asking. I'm excited to help you with your Python journey today. What would you like to work on? \n",
            "\n"
          ]
        }
      ]
    },
    {
      "cell_type": "code",
      "source": [
        "chat = model_gprosys.start_chat()\n"
      ],
      "metadata": {
        "id": "1-1QiMJSvLHf"
      },
      "execution_count": 20,
      "outputs": []
    },
    {
      "cell_type": "code",
      "source": [
        "message=\"what is python3?\"\n",
        "response = chat.send_message(message)\n",
        "answer=to_markdown(response.text)"
      ],
      "metadata": {
        "id": "mUzr4SQ5ycAK"
      },
      "execution_count": 21,
      "outputs": []
    },
    {
      "cell_type": "code",
      "source": [
        "message=\"what is programming?\"\n",
        "response = chat.send_message(message)\n",
        "answer=to_markdown(response.text)"
      ],
      "metadata": {
        "id": "jbvl0d-Vyptu"
      },
      "execution_count": 23,
      "outputs": []
    },
    {
      "cell_type": "code",
      "source": [
        "for message in chat.history:\n",
        "  display(to_markdown(f'**{message.role}**: {message.parts[0].text}'))"
      ],
      "metadata": {
        "colab": {
          "base_uri": "https://localhost:8080/",
          "height": 1000
        },
        "id": "9y3r5FScxkuX",
        "outputId": "d39c3e00-9752-47d0-92ba-6af1f4848d79"
      },
      "execution_count": 24,
      "outputs": [
        {
          "output_type": "display_data",
          "data": {
            "text/plain": [
              "<IPython.core.display.Markdown object>"
            ],
            "text/markdown": "> **user**: what is python3?"
          },
          "metadata": {}
        },
        {
          "output_type": "display_data",
          "data": {
            "text/plain": [
              "<IPython.core.display.Markdown object>"
            ],
            "text/markdown": "> **model**: ## Python3: The Present and Future of Python\n> \n> Python3 refers to the **current version** of the Python programming language. It's important to distinguish it from its predecessor, Python 2, which reached its end-of-life in 2020. While they share core similarities, Python 3 introduced significant changes and improvements. \n> \n> Here's a breakdown of key points about Python 3:\n> \n> **Evolution from Python 2:**\n> \n> *   **Breaking changes:** Python 3 wasn't just an incremental upgrade; it included deliberate changes that made it incompatible with Python 2 code. This was done to address design flaws and limitations in Python 2 and to pave the way for a more robust and consistent language. \n> *   **Unicode by default:** Python 3 made a crucial shift by handling text in Unicode by default, unlike Python 2 which used ASCII. This means Python 3 is much better equipped to handle different languages and characters from around the world.\n> *   **Enhanced features:**  Python 3 brought numerous improvements like better exception handling, function annotations, new modules, and cleaner syntax for print and integer division.\n> \n> **Why use Python 3?**\n> \n> *   **Future-proof:** Python 2 is no longer actively maintained, meaning it won't receive any updates or security patches. Choosing Python 3 ensures you're working with the actively developed and supported version.\n> *   **Modern features:** You get access to all the latest language enhancements, libraries, and the broader Python ecosystem that is primarily focused on Python 3.\n> *   **Growing community:** The vast majority of Python developers and resources have shifted to Python 3, offering a wider network of support and learning materials.\n> \n> **Getting Started with Python 3:**\n> \n> *   **Installation:**  Download the latest version of Python 3 from the official Python website  (https://www.python.org/). Installation is straightforward on most operating systems.\n> *   **Learning resources:** Abundant tutorials, documentation, and online courses are available specifically for Python 3. The official Python tutorial is a great starting point.\n> \n> **Remember:** When starting new projects or learning Python, **always choose Python 3**. \n> \n> Feel free to ask if you have any further questions about Python 3 or specific aspects of the language you'd like to explore. Let's dive into the world of Python programming! \n"
          },
          "metadata": {}
        },
        {
          "output_type": "display_data",
          "data": {
            "text/plain": [
              "<IPython.core.display.Markdown object>"
            ],
            "text/markdown": "> **user**: what is programming?"
          },
          "metadata": {}
        },
        {
          "output_type": "display_data",
          "data": {
            "text/plain": [
              "<IPython.core.display.Markdown object>"
            ],
            "text/markdown": "> **model**: ## Programming: Giving Instructions to Machines\n> \n> Programming, in its essence, is the art of **communicating with computers**. It involves creating a set of instructions, known as code, that tells a computer what to do and how to do it. These instructions can range from simple tasks like performing calculations to complex operations like displaying graphics or running an entire application.\n> \n> **Key aspects of programming:**\n> \n> *   **Languages:** Programmers use specific programming languages, like Python, Java, or C++, to write these instructions. Each language has its own syntax (rules) and structure.\n> *   **Logic and algorithms:** Programming is not just about writing code; it's about thinking logically and designing efficient algorithms to solve problems. This involves breaking down a task into smaller steps and defining the order in which they should be executed.\n> *   **Data manipulation:**  Programs often deal with data, whether it's numbers, text, images, or any other form of information. Programmers need to understand how to store, access, process, and transform this data to achieve the desired outcome.\n> *   **Problem-solving:** At its core, programming is about finding solutions to problems. It requires analytical thinking, creativity, and the ability to approach challenges from different angles.\n> \n> **What can you do with programming?**\n> \n> The possibilities are vast! Programming is used in almost every aspect of our modern world:\n> \n> *   **Software development:** Creating applications for computers, mobile devices, and the web.\n> *   **Web development:** Building websites and web applications.\n> *   **Data science and analysis:** Extracting insights and knowledge from data using programming tools.\n> *   **Machine learning and artificial intelligence:** Developing intelligent systems that can learn and adapt.\n> *   **Game development:** Creating interactive and engaging games.\n> *   **Scientific computing:**  Simulating complex systems and performing scientific calculations.\n> *   **Automation:** Automating repetitive tasks and processes.\n> \n> **Why learn programming?**\n> \n> *   **Valuable skill:** Programming is a highly sought-after skill in today's job market across various industries.\n> *   **Creativity and problem-solving:** It encourages you to think creatively and develop problem-solving skills.\n> *   **Automation and efficiency:**  You can automate tasks and improve your efficiency in various areas of life.\n> *   **Understanding technology:** Gain a deeper understanding of how technology works and the digital world around you.\n> \n> **If you're interested in learning to program, Python is an excellent language to start with. It's beginner-friendly, versatile, and widely used.** \n"
          },
          "metadata": {}
        }
      ]
    },
    {
      "cell_type": "code",
      "source": [
        "message=\"what is tree?\"\n",
        "response = chat.send_message(message)\n",
        "answer=to_markdown(response.text)\n"
      ],
      "metadata": {
        "id": "ztoipRUOy7eX"
      },
      "execution_count": 25,
      "outputs": []
    },
    {
      "cell_type": "code",
      "source": [
        "answer"
      ],
      "metadata": {
        "colab": {
          "base_uri": "https://localhost:8080/",
          "height": 661
        },
        "id": "jfld_lnfzEnz",
        "outputId": "11af66cf-b191-462c-d5d0-31bf552bc7fb"
      },
      "execution_count": 26,
      "outputs": [
        {
          "output_type": "execute_result",
          "data": {
            "text/plain": [
              "<IPython.core.display.Markdown object>"
            ],
            "text/markdown": "> ## Trees: A Versatile Data Structure\n> \n> In the realm of computer science, a **tree** is a fundamental and widely used data structure.  It's a hierarchical structure composed of nodes connected by edges, resembling an upside-down tree with its root at the top and branches extending downwards.\n> \n> **Key characteristics of a tree:**\n> \n> *   **Nodes:** Each node holds data and can have zero or more child nodes.\n> *   **Root node:** The topmost node with no parent.\n> *   **Edges:** Connections between nodes representing parent-child relationships.\n> *   **Leaf nodes:** Nodes with no children, representing the endpoints of the tree.\n> *   **Hierarchical structure:**  Nodes are organized in levels, with the root at level 0 and subsequent levels representing increasing depth.\n> \n> **Types of Trees:**\n> \n> Several types of trees exist, each with specific properties and applications:\n> \n> *   **Binary Tree:** Each node has at most two children, often referred to as the left child and right child.\n> *   **Binary Search Tree (BST):** A binary tree with the additional property that for each node, all nodes in its left subtree have values less than the node's value, and all nodes in its right subtree have values greater than the node's value. This property enables efficient searching and sorting operations.\n> *   **AVL Tree:** A self-balancing binary search tree that ensures efficient operations by automatically adjusting its structure to maintain a balanced height.\n> *   **B-Tree:**  A self-balancing tree designed for storing data on disk or other secondary storage devices.\n> *   **Heap:**  A binary tree where the value of each node is greater than or equal to (max heap) or less than or equal to (min heap) the values of its children.\n> \n> **Applications of Trees:**\n> \n> Trees are incredibly versatile and find applications in various areas:\n> \n> *   **Searching and sorting:**  Binary search trees provide efficient algorithms for searching and sorting data.\n> *   **File systems:**  Hierarchical organization of files and directories often represented using tree structures.\n> *   **Databases:** Indexing data for faster retrieval.\n> *   **Expression evaluation:** Parsing and evaluating mathematical expressions. \n> *   **Decision trees:** Used in machine learning for classification and prediction tasks.\n> *   **Network routing:** Finding optimal paths in computer networks.\n> \n> **Understanding trees is essential for any aspiring programmer or computer scientist. They provide efficient and elegant solutions for organizing and manipulating data in various applications.** \n"
          },
          "metadata": {},
          "execution_count": 26
        }
      ]
    }
  ]
}